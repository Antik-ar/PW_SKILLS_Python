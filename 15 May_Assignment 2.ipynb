{
 "cells": [
  {
   "cell_type": "markdown",
   "id": "8da5de4e-efdd-4b75-a3ce-50b7abe23d49",
   "metadata": {},
   "source": [
    "Q1. How do you comment code in Python? What are the different types of comments?\n"
   ]
  },
  {
   "cell_type": "markdown",
   "id": "5ab200b5-e065-4a28-9f1b-1f4db64d9a50",
   "metadata": {},
   "source": [
    "Ans:- 1. Single-line comments are used to comment on a single line or a portion of a line. You can use the hash symbol (#) to start a single-line comment. Anything after the hash symbol on that line will be considered a comment and will not be executed by the Python interpreter.\n"
   ]
  },
  {
   "cell_type": "code",
   "execution_count": 1,
   "id": "b5bd0bc2-93cb-4a52-8c6c-ee1c54ab4bb0",
   "metadata": {},
   "outputs": [
    {
     "name": "stdout",
     "output_type": "stream",
     "text": [
      "Hello, world!\n"
     ]
    }
   ],
   "source": [
    "# This is a single-line comment\n",
    "print(\"Hello, world!\")  # This comment is at the end of the line\n"
   ]
  },
  {
   "cell_type": "markdown",
   "id": "0655d132-a221-4501-ba58-07ff161646cd",
   "metadata": {},
   "source": [
    "2.  Multi-line comments are used to comment on multiple lines or a block of code. Unlike some other programming languages, Python does not have a specific syntax for multi-line comments. However, you can use triple quotes (either single quotes ''' or double quotes \"\"\") to create multi-line strings, which can effectively serve as multi-line comments. These strings are usually ignored by the interpreter and can span multiple lines."
   ]
  },
  {
   "cell_type": "code",
   "execution_count": 2,
   "id": "d89a199f-99d9-4046-97f3-acc8a26a50a2",
   "metadata": {},
   "outputs": [
    {
     "name": "stdout",
     "output_type": "stream",
     "text": [
      "Hello, world!\n"
     ]
    }
   ],
   "source": [
    "'''\n",
    "This is a multi-line comment.\n",
    "It can span multiple lines.\n",
    "'''\n",
    "print(\"Hello, world!\")\n"
   ]
  },
  {
   "cell_type": "markdown",
   "id": "6c6b4a2a-f297-4122-9f36-fb093303ebb9",
   "metadata": {},
   "source": [
    "Q2. What are variables in Python? How do you declare and assign values to variables?"
   ]
  },
  {
   "cell_type": "markdown",
   "id": "d7ea3f7d-3e4d-478d-ba33-f4b518fd0b5a",
   "metadata": {},
   "source": [
    "In Python, variables are used to store data values. A variable is a name that refers to a specific location in memory where the data is stored. It allows you to easily access and manipulate the data throughout your code."
   ]
  },
  {
   "cell_type": "code",
   "execution_count": 3,
   "id": "c50d9de6-2f1a-49e8-bb9c-82fd417d9c36",
   "metadata": {},
   "outputs": [
    {
     "name": "stdout",
     "output_type": "stream",
     "text": [
      "John\n",
      "25\n",
      "True\n",
      "26\n",
      "26\n"
     ]
    }
   ],
   "source": [
    "# Variable declaration and assignment\n",
    "name = \"John\"\n",
    "age = 25\n",
    "is_student = True\n",
    "\n",
    "# Printing the values of variables\n",
    "print(name)         # Output: John\n",
    "print(age)          # Output: 25\n",
    "print(is_student)   # Output: True\n",
    "\n",
    "# Modifying variable values\n",
    "age = age + 1       # Incrementing age by 1\n",
    "print(age)          # Output: 26\n",
    "\n",
    "# Assigning the value of one variable to another\n",
    "new_age = age\n",
    "print(new_age)      # Output: 26\n"
   ]
  },
  {
   "cell_type": "markdown",
   "id": "dc290dfc-805c-493d-bd9f-081779c2b9bb",
   "metadata": {},
   "source": [
    "Q3. How do you convert one data type to another in Python?"
   ]
  },
  {
   "cell_type": "markdown",
   "id": "e61a4dd3-c20d-4a63-b657-85c7e6bbb0af",
   "metadata": {},
   "source": [
    "In Python, you can convert one data type to another using type conversion functions or constructors."
   ]
  },
  {
   "cell_type": "markdown",
   "id": "9eef8205-1368-41c3-8a21-129a4562914f",
   "metadata": {},
   "source": [
    "1. Integer conversion: You can convert a value to an integer using the int() function. If the value is a floating-point number, it will be truncated to an integer."
   ]
  },
  {
   "cell_type": "code",
   "execution_count": 4,
   "id": "9d7cc3c4-8902-4537-94f0-edc0cafeecf8",
   "metadata": {},
   "outputs": [
    {
     "name": "stdout",
     "output_type": "stream",
     "text": [
      "3\n"
     ]
    }
   ],
   "source": [
    "num_float = 3.14\n",
    "num_int = int(num_float)\n",
    "print(num_int)  # Output: 3\n"
   ]
  },
  {
   "cell_type": "markdown",
   "id": "51d9cc53-bb52-4015-a32c-c36f2122f9c4",
   "metadata": {},
   "source": [
    "2. Float conversion: You can convert a value to a float using the float() function. This is particularly useful when you want to perform arithmetic operations involving decimal values."
   ]
  },
  {
   "cell_type": "code",
   "execution_count": 5,
   "id": "e498abb5-6701-4ab1-a9b0-32552c45c446",
   "metadata": {},
   "outputs": [
    {
     "name": "stdout",
     "output_type": "stream",
     "text": [
      "3.0\n"
     ]
    }
   ],
   "source": [
    "num_int = 3\n",
    "num_float = float(num_int)\n",
    "print(num_float)  # Output: 3.0\n"
   ]
  },
  {
   "cell_type": "markdown",
   "id": "1bda37a5-9470-4df6-984b-b23103a12336",
   "metadata": {},
   "source": [
    "3. String conversion: You can convert a value to a string using the str() function. This is commonly used when you want to concatenate a non-string value with other strings or when you need to display the value as a string."
   ]
  },
  {
   "cell_type": "code",
   "execution_count": 6,
   "id": "cd04202a-c682-4aa4-b592-133ff9ddaef2",
   "metadata": {},
   "outputs": [
    {
     "name": "stdout",
     "output_type": "stream",
     "text": [
      "The answer is: 42\n"
     ]
    }
   ],
   "source": [
    "num_int = 42\n",
    "num_str = str(num_int)\n",
    "print(\"The answer is: \" + num_str)  # Output: The answer is: 42\n"
   ]
  },
  {
   "cell_type": "markdown",
   "id": "475f7f39-c41c-450a-a5d1-0e1bb98dd79d",
   "metadata": {},
   "source": [
    "4. List conversion: You can convert a sequence of values to a list using the list() constructor. It takes an iterable object, such as a string, tuple, or range, and converts it into a list."
   ]
  },
  {
   "cell_type": "code",
   "execution_count": 7,
   "id": "a7dd6e20-1d71-46c9-b16f-e2954eddc637",
   "metadata": {},
   "outputs": [
    {
     "name": "stdout",
     "output_type": "stream",
     "text": [
      "['H', 'e', 'l', 'l', 'o']\n"
     ]
    }
   ],
   "source": [
    "str_value = \"Hello\"\n",
    "list_value = list(str_value)\n",
    "print(list_value)  # Output: ['H', 'e', 'l', 'l', 'o']\n"
   ]
  },
  {
   "cell_type": "markdown",
   "id": "5780c147-f2d9-42cb-b41c-1b7f0e6aa6da",
   "metadata": {},
   "source": [
    "\n",
    "\n",
    "\n",
    "Q4. How do you write and execute a Python script from the command line?"
   ]
  },
  {
   "cell_type": "code",
   "execution_count": 10,
   "id": "be1a4eca-9bd3-4722-ba6b-81184248dc18",
   "metadata": {},
   "outputs": [
    {
     "name": "stdout",
     "output_type": "stream",
     "text": [
      "Hello, World!\n"
     ]
    }
   ],
   "source": [
    "# script.py\n",
    "print(\"Hello, World!\")\n"
   ]
  },
  {
   "cell_type": "markdown",
   "id": "9f973876-f981-4098-a283-cd80b8c676d6",
   "metadata": {},
   "source": [
    "Q5. Given a list my_list = [1, 2, 3, 4, 5], write the code to slice the list and obtain the sub-list [2, 3]."
   ]
  },
  {
   "cell_type": "code",
   "execution_count": 11,
   "id": "5b57bb28-0cf7-4290-aa5c-9baec7757962",
   "metadata": {},
   "outputs": [
    {
     "name": "stdout",
     "output_type": "stream",
     "text": [
      "[2, 3]\n"
     ]
    }
   ],
   "source": [
    "my_list = [1, 2, 3, 4, 5]\n",
    "sub_list = my_list[1:3]\n",
    "print(sub_list)\n"
   ]
  },
  {
   "cell_type": "markdown",
   "id": "a802d540-08bd-42a5-b199-a4886d5606c4",
   "metadata": {},
   "source": [
    "Q6. What is a complex number in mathematics, and how is it represented in Python?"
   ]
  },
  {
   "cell_type": "markdown",
   "id": "f3ef8817-d659-474c-a9ca-39835f702ff3",
   "metadata": {},
   "source": [
    "In Python, complex numbers are represented using the complex data type. The imaginary part is denoted by a lowercase j or J. You can create a complex number by specifying the real and imaginary parts as arguments to the complex() function or by directly assigning a value in the form a + bj to a variable."
   ]
  },
  {
   "cell_type": "code",
   "execution_count": 12,
   "id": "768efe88-8e9e-4ae4-95e6-412c153b617a",
   "metadata": {},
   "outputs": [
    {
     "name": "stdout",
     "output_type": "stream",
     "text": [
      "(2+3j)\n",
      "(4+5j)\n"
     ]
    }
   ],
   "source": [
    "# Using the complex() function\n",
    "complex_num_1 = complex(2, 3)\n",
    "print(complex_num_1)  # Output: (2+3j)\n",
    "\n",
    "# Assigning a value directly\n",
    "complex_num_2 = 4 + 5j\n",
    "print(complex_num_2)  # Output: (4+5j)\n"
   ]
  },
  {
   "cell_type": "markdown",
   "id": "a743139b-5c7c-4d51-854f-64586b9cd1ec",
   "metadata": {},
   "source": [
    "In Python, you can perform various mathematical operations with complex numbers. The arithmetic operations (+, -, *, /) can be applied to complex numbers, and Python provides functions like abs() for calculating the absolute value, real() for extracting the real part, and imag() for extracting the imaginary part."
   ]
  },
  {
   "cell_type": "code",
   "execution_count": 13,
   "id": "c93ea3e0-2005-46b5-9072-9f23faf69e96",
   "metadata": {},
   "outputs": [
    {
     "name": "stdout",
     "output_type": "stream",
     "text": [
      "(6+8j)\n",
      "3.605551275463989\n",
      "4.0 5.0\n"
     ]
    }
   ],
   "source": [
    "complex_num_1 = complex(2, 3)\n",
    "complex_num_2 = 4 + 5j\n",
    "\n",
    "sum_complex = complex_num_1 + complex_num_2\n",
    "print(sum_complex)      # Output: (6+8j)\n",
    "\n",
    "abs_value = abs(complex_num_1)\n",
    "print(abs_value)        # Output: 3.605551275463989\n",
    "\n",
    "real_part = complex_num_2.real\n",
    "imaginary_part = complex_num_2.imag\n",
    "print(real_part, imaginary_part)  # Output: 4.0, 5.0\n"
   ]
  },
  {
   "cell_type": "markdown",
   "id": "188d4818-f692-4547-836c-7e2017e7b258",
   "metadata": {},
   "source": [
    "Q7. What is the correct way to declare a variable named age and assign the value 25 to it?"
   ]
  },
  {
   "cell_type": "code",
   "execution_count": 14,
   "id": "44991a7e-7a44-47a2-9603-9b78aa77a16c",
   "metadata": {},
   "outputs": [],
   "source": [
    "age = 25\n"
   ]
  },
  {
   "cell_type": "code",
   "execution_count": 16,
   "id": "940abc4f-01a8-4afd-8ad8-8df7621143bc",
   "metadata": {},
   "outputs": [
    {
     "data": {
      "text/plain": [
       "25"
      ]
     },
     "execution_count": 16,
     "metadata": {},
     "output_type": "execute_result"
    }
   ],
   "source": [
    "age\n"
   ]
  },
  {
   "cell_type": "markdown",
   "id": "9f97a0e9-8937-41b4-9d4a-6c43a1335763",
   "metadata": {},
   "source": [
    "In this line of code, the variable 'age' is declared and assigned the value '25' using the assignment operator (=).\n",
    "\n",
    "After executing this line, the variable 'age' will hold the value '25', and you can use it in subsequent code for various purposes, such as comparisons, calculations, or displaying the value."
   ]
  },
  {
   "cell_type": "markdown",
   "id": "98686984-7618-46cf-b91f-a55393ab5874",
   "metadata": {},
   "source": [
    "Q8. Declare a variable named price and assign the value 9.99 to it. What data type does this variable\n",
    "belong to?"
   ]
  },
  {
   "cell_type": "code",
   "execution_count": 18,
   "id": "b9356c63-5fdb-4a18-877d-9d2fd7099d1b",
   "metadata": {},
   "outputs": [],
   "source": [
    "price = 9.99\n"
   ]
  },
  {
   "cell_type": "code",
   "execution_count": 19,
   "id": "6b8397ec-d773-4205-9994-41ead4da1c8e",
   "metadata": {},
   "outputs": [
    {
     "data": {
      "text/plain": [
       "9.99"
      ]
     },
     "execution_count": 19,
     "metadata": {},
     "output_type": "execute_result"
    }
   ],
   "source": [
    "price\n"
   ]
  },
  {
   "cell_type": "markdown",
   "id": "e94775e0-349c-4b31-9303-39b0105d39d9",
   "metadata": {},
   "source": [
    "n this code, the variable price is declared and assigned the value 9.99 using the assignment operator (=). The value 9.99 is a decimal number, which is represented as a floating-point number in Python.\n",
    "\n",
    "Therefore, the variable price belongs to the data type float, which represents floating-point numbers in Python. Floats are used to store and manipulate decimal numbers with a fractional component."
   ]
  },
  {
   "cell_type": "code",
   "execution_count": 20,
   "id": "ee8f6331-127e-4bd2-84c3-9f5e44d83cbb",
   "metadata": {},
   "outputs": [
    {
     "name": "stdout",
     "output_type": "stream",
     "text": [
      "<class 'float'>\n"
     ]
    }
   ],
   "source": [
    "price = 9.99\n",
    "data_type = type(price)\n",
    "print(data_type)\n"
   ]
  },
  {
   "cell_type": "markdown",
   "id": "c33979e9-5905-4ff0-99f2-04936ca2c9cc",
   "metadata": {},
   "source": [
    "This indicates that the data type of the variable 'price' is 'float'."
   ]
  },
  {
   "cell_type": "markdown",
   "id": "490871a8-392e-4049-9e87-d142bee21884",
   "metadata": {},
   "source": [
    "Q9. Create a variable named name and assign your full name to it as a string. How would you print the\n",
    "value of this variable?"
   ]
  },
  {
   "cell_type": "code",
   "execution_count": 23,
   "id": "916f4630-578d-419f-9416-02e5ccf9ffd2",
   "metadata": {},
   "outputs": [],
   "source": [
    "name = \"Antik Chakraborty\"\n"
   ]
  },
  {
   "cell_type": "code",
   "execution_count": 24,
   "id": "3a7be6ff-684d-430e-bd97-4d4e01c1468b",
   "metadata": {},
   "outputs": [
    {
     "name": "stdout",
     "output_type": "stream",
     "text": [
      "Antik Chakraborty\n"
     ]
    }
   ],
   "source": [
    "print(name)\n"
   ]
  },
  {
   "cell_type": "markdown",
   "id": "0505a541-1d94-4890-9d2c-4b2eb95d0acc",
   "metadata": {},
   "source": [
    "Q10. Given the string \"Hello, World!\", extract the substring \"World\"."
   ]
  },
  {
   "cell_type": "code",
   "execution_count": 25,
   "id": "07502a03-01c2-4877-920e-e5d40f8c34b4",
   "metadata": {},
   "outputs": [
    {
     "name": "stdout",
     "output_type": "stream",
     "text": [
      "World\n"
     ]
    }
   ],
   "source": [
    "string = \"Hello, World!\"\n",
    "substring = string[7:12]\n",
    "print(substring)\n"
   ]
  },
  {
   "cell_type": "markdown",
   "id": "1eb64379-21b6-491a-8db6-0fedc39f6418",
   "metadata": {},
   "source": [
    "Q11. Create a variable named \"is_student\" and assign it a boolean value indicating whether you are\n",
    "currently a student or not."
   ]
  },
  {
   "cell_type": "code",
   "execution_count": 26,
   "id": "cc87cc99-68ce-4f8a-b873-7f1f8da81aca",
   "metadata": {},
   "outputs": [],
   "source": [
    "is_student = True\n"
   ]
  },
  {
   "cell_type": "code",
   "execution_count": 27,
   "id": "a9957073-401f-4161-9ecb-8c34d601aa5f",
   "metadata": {},
   "outputs": [
    {
     "name": "stdout",
     "output_type": "stream",
     "text": [
      "True\n"
     ]
    }
   ],
   "source": [
    "is_student = True\n",
    "print(is_student)\n"
   ]
  },
  {
   "cell_type": "code",
   "execution_count": null,
   "id": "d43a19fe-d168-4f2b-ab6a-79bc60329591",
   "metadata": {},
   "outputs": [],
   "source": []
  }
 ],
 "metadata": {
  "kernelspec": {
   "display_name": "Python 3 (ipykernel)",
   "language": "python",
   "name": "python3"
  },
  "language_info": {
   "codemirror_mode": {
    "name": "ipython",
    "version": 3
   },
   "file_extension": ".py",
   "mimetype": "text/x-python",
   "name": "python",
   "nbconvert_exporter": "python",
   "pygments_lexer": "ipython3",
   "version": "3.10.8"
  }
 },
 "nbformat": 4,
 "nbformat_minor": 5
}
