{
 "cells": [
  {
   "cell_type": "markdown",
   "id": "10322b71-efeb-4f13-9d7d-593990e5e492",
   "metadata": {},
   "source": [
    "Q1. \n"
   ]
  },
  {
   "cell_type": "code",
   "execution_count": 2,
   "id": "fb3774f2-2e3d-4211-8da0-bd03a88fd691",
   "metadata": {},
   "outputs": [],
   "source": [
    "# String variable\n",
    "my_string = \"Hello, world!\"\n",
    "\n",
    "# List variable\n",
    "my_list = [1, 2, 3, 4, 5]\n",
    "\n",
    "# Float variable\n",
    "my_float = 3.14\n",
    "\n",
    "# Tuple variable\n",
    "my_tuple = (6, 7, 8, 9, 10)\n"
   ]
  },
  {
   "cell_type": "markdown",
   "id": "cc5b691f-971e-4d09-b080-7aaef623681b",
   "metadata": {},
   "source": [
    "Q2. "
   ]
  },
  {
   "cell_type": "markdown",
   "id": "09ff70f9-4e06-4dd1-8683-8e278c0faf16",
   "metadata": {},
   "source": [
    "The data types of the given variables are as follows:\n",
    "\n",
    "(i) var1 - This variable is a string data type.\n",
    "\n",
    "(ii) var2 - This variable is also a string data type.\n",
    "\n",
    "(iii) var3 - This variable is a list data type.\n",
    "\n",
    "(iv) var4 - This variable is a float data type."
   ]
  },
  {
   "cell_type": "markdown",
   "id": "d0f9f40d-848a-4b2a-aff7-c06eee4da529",
   "metadata": {},
   "source": [
    "Q3."
   ]
  },
  {
   "cell_type": "markdown",
   "id": "474a6e40-b651-4845-912e-9b6f6032e17e",
   "metadata": {},
   "source": [
    "(i) / (Division Operator): The division operator is used to perform division between two numbers and returns the quotient as a floating-point number.\n"
   ]
  },
  {
   "cell_type": "code",
   "execution_count": 6,
   "id": "86f8a25e-bd06-4451-a69f-6540466eb34e",
   "metadata": {},
   "outputs": [
    {
     "name": "stdout",
     "output_type": "stream",
     "text": [
      "3.3333333333333335\n"
     ]
    }
   ],
   "source": [
    "x = 10\n",
    "y = 3\n",
    "result = x / y\n",
    "print(result)\n"
   ]
  },
  {
   "cell_type": "markdown",
   "id": "cd6c89c7-53b9-4b70-9d71-558c8eacbf90",
   "metadata": {},
   "source": [
    "(ii) % (Modulo Operator): The modulo operator is used to calculate the remainder after division."
   ]
  },
  {
   "cell_type": "code",
   "execution_count": 7,
   "id": "9595c9a1-448e-4c61-9683-19bcd552af2e",
   "metadata": {},
   "outputs": [
    {
     "name": "stdout",
     "output_type": "stream",
     "text": [
      "1\n"
     ]
    }
   ],
   "source": [
    "x = 10\n",
    "y = 3\n",
    "result = x % y\n",
    "print(result)\n"
   ]
  },
  {
   "cell_type": "markdown",
   "id": "170b6adc-d242-47bc-b3ac-96e9571689b2",
   "metadata": {},
   "source": [
    "(iii) // (Floor Division Operator): The floor division operator is used to perform division between two numbers and returns the quotient as an integer, rounded down to the nearest whole number."
   ]
  },
  {
   "cell_type": "code",
   "execution_count": 8,
   "id": "60be20a9-0890-4986-adc1-a29321c5cadd",
   "metadata": {},
   "outputs": [
    {
     "name": "stdout",
     "output_type": "stream",
     "text": [
      "3\n"
     ]
    }
   ],
   "source": [
    "x = 10\n",
    "y = 3\n",
    "result = x // y\n",
    "print(result)\n"
   ]
  },
  {
   "cell_type": "markdown",
   "id": "0c75c06b-fcf2-42f8-b363-42df7cdacd8c",
   "metadata": {},
   "source": [
    "(iv) ** (Exponentiation Operator): The exponentiation operator is used to raise a number to a power."
   ]
  },
  {
   "cell_type": "code",
   "execution_count": 9,
   "id": "fdda3f14-bb39-4634-95aa-e900f764f8c2",
   "metadata": {},
   "outputs": [
    {
     "name": "stdout",
     "output_type": "stream",
     "text": [
      "8\n"
     ]
    }
   ],
   "source": [
    "x = 2\n",
    "y = 3\n",
    "result = x ** y\n",
    "print(result)\n"
   ]
  },
  {
   "cell_type": "markdown",
   "id": "d25c0d89-17be-4f28-999e-b2d205d2dc7b",
   "metadata": {},
   "source": [
    "Q4. "
   ]
  },
  {
   "cell_type": "code",
   "execution_count": 10,
   "id": "8c2542d7-541b-4754-937d-f517ba7479eb",
   "metadata": {},
   "outputs": [
    {
     "name": "stdout",
     "output_type": "stream",
     "text": [
      "Element: 1 | Data Type: <class 'int'>\n",
      "Element: 2.5 | Data Type: <class 'float'>\n",
      "Element: Hello | Data Type: <class 'str'>\n",
      "Element: True | Data Type: <class 'bool'>\n",
      "Element: [1, 2, 3] | Data Type: <class 'list'>\n",
      "Element: {'a': 1, 'b': 2} | Data Type: <class 'dict'>\n",
      "Element: None | Data Type: <class 'NoneType'>\n",
      "Element: (4, 5, 6) | Data Type: <class 'tuple'>\n",
      "Element: (3+4j) | Data Type: <class 'complex'>\n",
      "Element: False | Data Type: <class 'bool'>\n"
     ]
    }
   ],
   "source": [
    "my_list = [1, 2.5, 'Hello', True, [1, 2, 3], {'a': 1, 'b': 2}, None, (4, 5, 6), 3 + 4j, False]\n",
    "\n",
    "for element in my_list:\n",
    "    print(f\"Element: {element} | Data Type: {type(element)}\")\n"
   ]
  },
  {
   "cell_type": "markdown",
   "id": "28e47976-b0fd-470e-98a7-f984f286a956",
   "metadata": {},
   "source": [
    "Q5. "
   ]
  },
  {
   "cell_type": "code",
   "execution_count": 11,
   "id": "6b030ab5-371d-4474-9389-dfb8157777ce",
   "metadata": {},
   "outputs": [
    {
     "name": "stdout",
     "output_type": "stream",
     "text": [
      "A is divisible by B 2 times\n"
     ]
    }
   ],
   "source": [
    "# Input values for A and B\n",
    "A = 100\n",
    "B = 5\n",
    "\n",
    "# Variables to keep track of the count and quotient\n",
    "count = 0\n",
    "quotient = A\n",
    "\n",
    "# While loop to check divisibility and calculate count\n",
    "while quotient % B == 0:\n",
    "    quotient = quotient // B\n",
    "    count += 1\n",
    "\n",
    "# Output the result\n",
    "if count > 0:\n",
    "    print(f\"A is divisible by B {count} times\")\n",
    "else:\n",
    "    print(\"A is not divisible by B\")\n"
   ]
  },
  {
   "cell_type": "markdown",
   "id": "4b263777-8bd4-440e-a3ca-f8164668af1e",
   "metadata": {},
   "source": [
    "Q6."
   ]
  },
  {
   "cell_type": "code",
   "execution_count": 12,
   "id": "b5811f24-f17a-47d4-ac12-f4a616917f32",
   "metadata": {},
   "outputs": [
    {
     "name": "stdout",
     "output_type": "stream",
     "text": [
      "4 is not divisible by 3\n",
      "9 is divisible by 3\n",
      "12 is divisible by 3\n",
      "7 is not divisible by 3\n",
      "18 is divisible by 3\n",
      "21 is divisible by 3\n",
      "15 is divisible by 3\n",
      "5 is not divisible by 3\n",
      "27 is divisible by 3\n",
      "8 is not divisible by 3\n",
      "11 is not divisible by 3\n",
      "30 is divisible by 3\n",
      "16 is not divisible by 3\n",
      "33 is divisible by 3\n",
      "20 is not divisible by 3\n",
      "14 is not divisible by 3\n",
      "25 is not divisible by 3\n",
      "36 is divisible by 3\n",
      "22 is not divisible by 3\n",
      "13 is not divisible by 3\n",
      "39 is divisible by 3\n",
      "17 is not divisible by 3\n",
      "24 is divisible by 3\n",
      "10 is not divisible by 3\n",
      "31 is not divisible by 3\n"
     ]
    }
   ],
   "source": [
    "# Creating the list of 25 integers\n",
    "my_list = [4, 9, 12, 7, 18, 21, 15, 5, 27, 8, 11, 30, 16, 33, 20, 14, 25, 36, 22, 13, 39, 17, 24, 10, 31]\n",
    "\n",
    "# Using for loop and if-else condition to check divisibility by 3\n",
    "for element in my_list:\n",
    "    if element % 3 == 0:\n",
    "        print(f\"{element} is divisible by 3\")\n",
    "    else:\n",
    "        print(f\"{element} is not divisible by 3\")\n"
   ]
  },
  {
   "cell_type": "markdown",
   "id": "8cb55603-876b-4f60-b784-27e2f6e0d5f2",
   "metadata": {},
   "source": [
    "Q7."
   ]
  },
  {
   "cell_type": "markdown",
   "id": "df4def8f-3cb9-461e-b11e-2ba0ac4adf48",
   "metadata": {},
   "source": [
    "Immutable data types:\n",
    "Immutable data types are those whose values cannot be changed after they are created. If you want to modify an immutable object, you need to create a new object. Examples of immutable data types in Python include:\n",
    "\n",
    "Numbers (int, float, complex),\n",
    "Strings,\n",
    "Tuples."
   ]
  },
  {
   "cell_type": "code",
   "execution_count": 15,
   "id": "e2646d84-0549-4b3e-a7a9-06e093d1891c",
   "metadata": {},
   "outputs": [
    {
     "name": "stdout",
     "output_type": "stream",
     "text": [
      "Alice\n"
     ]
    }
   ],
   "source": [
    "name = \"Alice\"\n",
    "print(name)"
   ]
  },
  {
   "cell_type": "code",
   "execution_count": 16,
   "id": "454ae471-f8e8-4b72-997f-dbfd7f1ffa3d",
   "metadata": {},
   "outputs": [
    {
     "ename": "TypeError",
     "evalue": "'str' object does not support item assignment",
     "output_type": "error",
     "traceback": [
      "\u001b[0;31m---------------------------------------------------------------------------\u001b[0m",
      "\u001b[0;31mTypeError\u001b[0m                                 Traceback (most recent call last)",
      "Cell \u001b[0;32mIn[16], line 1\u001b[0m\n\u001b[0;32m----> 1\u001b[0m \u001b[43mname\u001b[49m\u001b[43m[\u001b[49m\u001b[38;5;241;43m0\u001b[39;49m\u001b[43m]\u001b[49m \u001b[38;5;241m=\u001b[39m \u001b[38;5;124m\"\u001b[39m\u001b[38;5;124mB\u001b[39m\u001b[38;5;124m\"\u001b[39m\n",
      "\u001b[0;31mTypeError\u001b[0m: 'str' object does not support item assignment"
     ]
    }
   ],
   "source": [
    "name[0] = \"B\""
   ]
  },
  {
   "cell_type": "markdown",
   "id": "bd9d5b54-ce14-46c9-a58b-1a490fc2c9fa",
   "metadata": {},
   "source": [
    "In this example, we define a string name as \"Alice\". When we try to modify the first character of the string, it raises a TypeError because strings are immutable. To change the string, we need to create a new string."
   ]
  },
  {
   "cell_type": "markdown",
   "id": "bd6d0ed5-d8b6-4168-8d5c-6d6d437aadd5",
   "metadata": {},
   "source": [
    "Mutable data types:\n",
    "Mutable data types, on the other hand, allow modifications to their values after they are created. You can directly modify the object without creating a new one. Examples of mutable data types in Python include:\n",
    "\n",
    "Lists,\n",
    "Sets,\n",
    "Dictionaries"
   ]
  },
  {
   "cell_type": "code",
   "execution_count": 17,
   "id": "3b4265b6-2d03-4e32-91f7-eec1adf3ebf5",
   "metadata": {},
   "outputs": [
    {
     "name": "stdout",
     "output_type": "stream",
     "text": [
      "[1, 2, 3, 4, 5]\n"
     ]
    }
   ],
   "source": [
    "numbers = [1, 2, 3, 4, 5]\n",
    "print(numbers)"
   ]
  },
  {
   "cell_type": "code",
   "execution_count": 18,
   "id": "16f0c1bd-2b97-4990-bb70-16846d1aca62",
   "metadata": {},
   "outputs": [
    {
     "name": "stdout",
     "output_type": "stream",
     "text": [
      "[10, 2, 3, 4, 5]\n"
     ]
    }
   ],
   "source": [
    "numbers[0] = 10\n",
    "print(numbers)"
   ]
  },
  {
   "cell_type": "markdown",
   "id": "c436d52d-4a6d-4fd4-824a-45610224b99d",
   "metadata": {},
   "source": [
    "In this example, we have a list numbers with elements [1, 2, 3, 4, 5]. We directly modify the first element of the list by assigning it a new value (10). The list is mutable, so the change is reflected in the original object."
   ]
  },
  {
   "cell_type": "code",
   "execution_count": null,
   "id": "2fd9428b-b171-417b-9c1e-2a7baee06d1c",
   "metadata": {},
   "outputs": [],
   "source": []
  }
 ],
 "metadata": {
  "kernelspec": {
   "display_name": "Python 3 (ipykernel)",
   "language": "python",
   "name": "python3"
  },
  "language_info": {
   "codemirror_mode": {
    "name": "ipython",
    "version": 3
   },
   "file_extension": ".py",
   "mimetype": "text/x-python",
   "name": "python",
   "nbconvert_exporter": "python",
   "pygments_lexer": "ipython3",
   "version": "3.10.8"
  }
 },
 "nbformat": 4,
 "nbformat_minor": 5
}
